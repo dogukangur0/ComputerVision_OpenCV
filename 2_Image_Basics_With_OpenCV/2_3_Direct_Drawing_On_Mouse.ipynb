{
 "cells": [
  {
   "cell_type": "code",
   "execution_count": 2,
   "id": "579fe88d-2bc9-4db4-a544-704962c1ab44",
   "metadata": {},
   "outputs": [],
   "source": [
    "import numpy as np\n",
    "import matplotlib.pyplot as plt\n",
    "import cv2"
   ]
  },
  {
   "cell_type": "code",
   "execution_count": 4,
   "id": "a6cd3350-a3d3-4a41-861b-dd2b9f8b1fc5",
   "metadata": {},
   "outputs": [],
   "source": [
    "def draw_circle(event, x, y, flags, param):\n",
    "    if event == cv2.EVENT_LBUTTONDOWN:\n",
    "        cv2.circle(img, center=(x,y), radius=25, color=(255,0,0), thickness=-1)\n",
    "    elif event == cv2.EVENT_RBUTTONDOWN:\n",
    "        cv2.circle(img,center=(x,y), radius=25, color=(0,255,0), thickness=-1)\n",
    "    elif event == cv2.EVENT_LBUTTONDBLCLK:\n",
    "        cv2.circle(img, center=(x,y), radius=26, color=(0,0,255), thickness=3)"
   ]
  },
  {
   "cell_type": "code",
   "execution_count": 6,
   "id": "1d266428-aa7f-43d5-a09b-84432aeede8e",
   "metadata": {},
   "outputs": [],
   "source": [
    "cv2.namedWindow(winname=\"my_drawing\")\n",
    "cv2.setMouseCallback(\"my_drawing\",draw_circle)\n",
    "img = np.zeros(shape=(512,512,3), dtype = np.int8)\n",
    "while True:\n",
    "    cv2.imshow('my_drawing',img)\n",
    "    if cv2.waitKey(20) & 0xFF == 27:\n",
    "        break\n",
    "cv2.destroyAllWindows()"
   ]
  },
  {
   "cell_type": "code",
   "execution_count": 61,
   "id": "3e901880-b122-46b7-ac7b-edb1bf46b4ab",
   "metadata": {},
   "outputs": [],
   "source": [
    "drawing = False\n",
    "ix = -1\n",
    "iy = -1\n",
    "def draw_rectangle(event, x, y, flags, params):\n",
    "    global ix, iy, drawing\n",
    "    if event == cv2.EVENT_LBUTTONDOWN:\n",
    "        drawing = True\n",
    "        ix, iy = x, y\n",
    "    elif event == cv2.EVENT_MOUSEMOVE:\n",
    "        if drawing == True:\n",
    "            cv2.rectangle(img, (ix, iy), (x,y), color = (0, 255, 0), thickness= -1)\n",
    "    elif event == cv2.EVENT_LBUTTONUP:\n",
    "        drawing = False\n",
    "        cv2.rectangle(img, (ix, iy), (x,y), color = (0, 255, 0), thickness= -1)\n",
    "\n",
    "img = np.zeros(shape=(512,512,3))\n",
    "cv2.namedWindow(winname=\"my_image\")\n",
    "param = {\"color\": (0, 255, 0)} \n",
    "cv2.setMouseCallback(\"my_image\",draw_rectangle)\n",
    "\n",
    "while True: \n",
    "    cv2.imshow(\"my_image\",img)\n",
    "    if cv2.waitKey(20)  & 0xFF == 27:\n",
    "        break\n",
    "cv2.destroyAllWindows()"
   ]
  }
 ],
 "metadata": {
  "kernelspec": {
   "display_name": "Python 3 (ipykernel)",
   "language": "python",
   "name": "python3"
  },
  "language_info": {
   "codemirror_mode": {
    "name": "ipython",
    "version": 3
   },
   "file_extension": ".py",
   "mimetype": "text/x-python",
   "name": "python",
   "nbconvert_exporter": "python",
   "pygments_lexer": "ipython3",
   "version": "3.12.4"
  }
 },
 "nbformat": 4,
 "nbformat_minor": 5
}

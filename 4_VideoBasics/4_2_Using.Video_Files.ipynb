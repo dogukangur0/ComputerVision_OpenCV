{
 "cells": [
  {
   "cell_type": "code",
   "execution_count": 17,
   "id": "14d44161-182d-481c-bb99-e4ff4bb7233f",
   "metadata": {},
   "outputs": [],
   "source": [
    "import cv2\n",
    "import time"
   ]
  },
  {
   "cell_type": "code",
   "execution_count": 21,
   "id": "2298e4e1-2210-4e34-8d62-7ad5f2a57ce4",
   "metadata": {},
   "outputs": [],
   "source": [
    "cap = cv2.VideoCapture('myvideo.mp4')\n",
    "\n",
    "if cap.isOpened() == False:\n",
    "    print('Error file not found or wrong codec used!')\n",
    "\n",
    "while cap.isOpened():\n",
    "    ret, frame = cap.read()\n",
    "\n",
    "    if ret == True:\n",
    "        time.sleep(1/20)\n",
    "        cv2.imshow('frame', frame)\n",
    "\n",
    "        if cv2.waitKey(10) & 0x27 == ord('q'):\n",
    "            break\n",
    "\n",
    "    else:\n",
    "        break\n",
    "\n",
    "cap.release()\n",
    "cv2.destroyAllWindows()\n",
    "        "
   ]
  },
  {
   "cell_type": "code",
   "execution_count": null,
   "id": "1401fdc1-74ae-4aab-831f-3cffcaa425f8",
   "metadata": {},
   "outputs": [],
   "source": []
  }
 ],
 "metadata": {
  "kernelspec": {
   "display_name": "Python 3 (ipykernel)",
   "language": "python",
   "name": "python3"
  },
  "language_info": {
   "codemirror_mode": {
    "name": "ipython",
    "version": 3
   },
   "file_extension": ".py",
   "mimetype": "text/x-python",
   "name": "python",
   "nbconvert_exporter": "python",
   "pygments_lexer": "ipython3",
   "version": "3.12.4"
  }
 },
 "nbformat": 4,
 "nbformat_minor": 5
}

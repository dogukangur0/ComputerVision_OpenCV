{
 "cells": [
  {
   "cell_type": "code",
   "execution_count": 41,
   "id": "a4620138-a21b-4080-9bb5-b9ed974475ce",
   "metadata": {},
   "outputs": [],
   "source": [
    "import cv2"
   ]
  },
  {
   "cell_type": "code",
   "execution_count": null,
   "id": "3dd6c275-e29a-4855-b45d-fb1acef192a8",
   "metadata": {},
   "outputs": [],
   "source": [
    "cap = cv2.VideoCapture(0)\n",
    "\n",
    "width = int(cap.get(cv2.CAP_PROP_FRAME_WIDTH))\n",
    "height = int(cap.get(cv2.CAP_PROP_FRAME_HEIGHT))\n",
    "\n",
    "# top left\n",
    "x = width // 2\n",
    "y = height // 2\n",
    "\n",
    "# width and height of rectangle\n",
    "w = width // 4\n",
    "h = width // 4\n",
    "\n",
    "# bottom right (x+w), (y+h)\n",
    "\n",
    "while True:\n",
    "\n",
    "    ret, frame = cap.read()\n",
    "\n",
    "    cv2.rectangle(frame, (x,y), (x+w, y+h), color = (0,0,255), thickness = 4)\n",
    "    cv2.imshow('frame', frame)\n",
    "    if cv2.waitKey(1) & 0xFF == ord('q'):\n",
    "        break\n",
    "\n",
    "cap.release()\n",
    "cv2.destroyAllWindows()"
   ]
  },
  {
   "cell_type": "code",
   "execution_count": 43,
   "id": "a30f4093-7fb6-411e-8505-e433d32ad4d1",
   "metadata": {},
   "outputs": [],
   "source": [
    "# create rectangle\n",
    "cap = cv2.VideoCapture(0)\n",
    "\n",
    "def draw_rectangle(event, x, y, flags, param):\n",
    "    global pt1, pt2, topLeft_Clickled, bottomRight_Clickled\n",
    "\n",
    "    if event == cv2.EVENT_LBUTTONDOWN:\n",
    "        if topLeft_Clickled & bottomRight_Clickled:\n",
    "            pt1 = (0,0)\n",
    "            pt2 = (0,0)\n",
    "            topLeft_Clickled = False\n",
    "            bottomRight_Clickled = False\n",
    "\n",
    "        if topLeft_Clickled == False:\n",
    "            pt1 = (x,y)\n",
    "            topLeft_Clickled = True\n",
    "        elif bottomRight_Clickled == False:\n",
    "            pt2 = (x,y)\n",
    "            bottomRight_Clickled = True\n",
    "        \n",
    "    \n",
    "# global variables\n",
    "pt1 = (0,0)\n",
    "pt2 = (0,0)\n",
    "topLeft_Clickled = False\n",
    "bottomRight_Clickled = False\n",
    "\n",
    "cv2.namedWindow('Test')\n",
    "cv2.setMouseCallback('Test', draw_rectangle)\n",
    "\n",
    "\n",
    "while True:\n",
    "\n",
    "    ret, frame = cap.read()\n",
    "\n",
    "    if topLeft_Clickled: \n",
    "        cv2.circle(frame, center = pt1, radius = 2, color = (0,0,255), thickness = -1)\n",
    "    if topLeft_Clickled & bottomRight_Clickled:\n",
    "        cv2.rectangle(frame, pt1, pt2, color = (0,0,255), thickness = 3)\n",
    "        \n",
    "    cv2.imshow('Test', frame)\n",
    "    \n",
    "    if cv2.waitKey(1) & 0xFF == ord('q'):\n",
    "        break\n",
    "\n",
    "cap.release()\n",
    "cv2.destroyAllWindows()"
   ]
  },
  {
   "cell_type": "code",
   "execution_count": null,
   "id": "cd4c7664-6053-4343-ac08-8a9177ec15af",
   "metadata": {},
   "outputs": [],
   "source": []
  }
 ],
 "metadata": {
  "kernelspec": {
   "display_name": "Python 3 (ipykernel)",
   "language": "python",
   "name": "python3"
  },
  "language_info": {
   "codemirror_mode": {
    "name": "ipython",
    "version": 3
   },
   "file_extension": ".py",
   "mimetype": "text/x-python",
   "name": "python",
   "nbconvert_exporter": "python",
   "pygments_lexer": "ipython3",
   "version": "3.12.4"
  }
 },
 "nbformat": 4,
 "nbformat_minor": 5
}

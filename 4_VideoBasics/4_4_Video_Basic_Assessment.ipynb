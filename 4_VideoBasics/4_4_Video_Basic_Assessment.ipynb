{
 "cells": [
  {
   "cell_type": "code",
   "execution_count": 5,
   "id": "363d7990-3b0a-413b-a4da-96acc0aebc90",
   "metadata": {},
   "outputs": [],
   "source": [
    "import cv2\n",
    "\n",
    "cap = cv2.VideoCapture(0)\n",
    "\n",
    "def draw_circle(event, x, y, flags, param):\n",
    "    global center, buttonCliked\n",
    "    if event == cv2.EVENT_LBUTTONDOWN:\n",
    "        if buttonCliked:\n",
    "            buttonCliked = False\n",
    "            \n",
    "        if buttonCliked == False:\n",
    "            pt1 = (x,y)\n",
    "            buttonCliked = True\n",
    "\n",
    "buttonCliked = False\n",
    "center = (0,0)\n",
    "\n",
    "cv2.namedWindow('Test')\n",
    "cv2.setMouseCallback('Test',draw_circle)\n",
    "while True:\n",
    "    ref, frame = cap.read()\n",
    "    if buttonCliked:\n",
    "        cv2.circle(frame, center , 55, color = (255,0,0), thickness = 2)\n",
    "        \n",
    "    cv2.imshow('Test', frame)\n",
    "    if cv2.waitKey(1) & 0xFF == ord('q'):\n",
    "        break\n",
    "\n",
    "cap.release()\n",
    "cv2.destroyAllWindows()"
   ]
  }
 ],
 "metadata": {
  "kernelspec": {
   "display_name": "Python 3 (ipykernel)",
   "language": "python",
   "name": "python3"
  },
  "language_info": {
   "codemirror_mode": {
    "name": "ipython",
    "version": 3
   },
   "file_extension": ".py",
   "mimetype": "text/x-python",
   "name": "python",
   "nbconvert_exporter": "python",
   "pygments_lexer": "ipython3",
   "version": "3.12.4"
  }
 },
 "nbformat": 4,
 "nbformat_minor": 5
}
